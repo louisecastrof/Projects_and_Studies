{
 "cells": [
  {
   "cell_type": "markdown",
   "metadata": {},
   "source": [
    "# 1️⃣ Instructions\n",
    "## Write a program that adds the digits in a 2 digit number. e.g. if the input was 35, then the output should be 3 + 5 = 8. Warning: Do not change the code on line 1. Your program should work for different inputs. e.g. any two-digit number. The last line of your program should print the result.\n",
    "### Example Input: 39\n",
    "### Example Output: 12"
   ]
  },
  {
   "cell_type": "code",
   "execution_count": 9,
   "metadata": {},
   "outputs": [
    {
     "name": "stdout",
     "output_type": "stream",
     "text": [
      "12\n"
     ]
    }
   ],
   "source": [
    "numero_de_dois_digitos = input()\n",
    "soma = (int(numero_de_dois_digitos[0]) + int(numero_de_dois_digitos[1]))\n",
    "print(soma)"
   ]
  },
  {
   "cell_type": "markdown",
   "metadata": {},
   "source": [
    "# 2️⃣ Instructions\n",
    "## Write a program that calculates the Body Mass Index (BMI) from a user's weight and height.The BMI is a measure of someone's weight taking into account their height. e.g. If a tall person and a short person both weigh the same amount, the short person is usually more overweight. The BMI is calculated by dividing a person's weight (in kg) by the square of their height (in m):\n",
    "## BMI Formula\n",
    "## NOTE: You should convert the bmi to a whole number and print out a whole number in order to pass all the tests. See examples below.\n",
    "\n",
    "### Example Input\n",
    "#### 1.75 and 80 -> means: weight = 80 and height = 1.75\n",
    "\n",
    "### Example Output\n",
    "#### 26. Since: 80 ÷ (1.75 x 1.75) = 26.122448979591837"
   ]
  },
  {
   "cell_type": "code",
   "execution_count": 10,
   "metadata": {},
   "outputs": [
    {
     "name": "stdout",
     "output_type": "stream",
     "text": [
      "26\n"
     ]
    }
   ],
   "source": [
    "# 1st input: enter height in meters e.g: 1.65\n",
    "height = input()\n",
    "# 2nd input: enter weight in kilograms e.g: 72\n",
    "weight = input()\n",
    "\n",
    "bmi = float(weight) // (float(height) * float(height))\n",
    "print(int(bmi))"
   ]
  },
  {
   "cell_type": "markdown",
   "metadata": {},
   "source": [
    "# 3️⃣ Instructions\n",
    "## I was reading this article by Tim Urban - Your Life in Weeks and realised just how little time we actually have. Create a program using maths and f-Strings that tells us how many weeks we have left, if we live until 90 years old. It will take your current age as the input and output a message with our time left in this format:\n",
    "\n",
    "### You have x weeks left. Where x is replaced with the actual calculated number of weeks the input age has left until age 90.\n",
    "\n",
    "### Warning your output should match the Example Output format exactly, even the positions of the commas and full stops.\n",
    "\n",
    "### Example Input\n",
    "#### 56\n",
    "### Example Output\n",
    "#### You have 1768 weeks left."
   ]
  },
  {
   "cell_type": "code",
   "execution_count": 11,
   "metadata": {},
   "outputs": [
    {
     "name": "stdout",
     "output_type": "stream",
     "text": [
      "You have 3224 weeks left.\n"
     ]
    }
   ],
   "source": [
    "age = input()\n",
    "age = int(age) * (365 // 7)\n",
    "nr_weeks = (90 * (365 // 7)) - age \n",
    "nr_weeks = str(nr_weeks)\n",
    "print('You have ' + nr_weeks + ' weeks left.')"
   ]
  }
 ],
 "metadata": {
  "kernelspec": {
   "display_name": "Python 3",
   "language": "python",
   "name": "python3"
  },
  "language_info": {
   "codemirror_mode": {
    "name": "ipython",
    "version": 3
   },
   "file_extension": ".py",
   "mimetype": "text/x-python",
   "name": "python",
   "nbconvert_exporter": "python",
   "pygments_lexer": "ipython3",
   "version": "3.9.6"
  },
  "orig_nbformat": 4
 },
 "nbformat": 4,
 "nbformat_minor": 2
}
