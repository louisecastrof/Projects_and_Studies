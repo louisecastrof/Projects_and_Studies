{
  "nbformat": 4,
  "nbformat_minor": 0,
  "metadata": {
    "colab": {
      "provenance": [],
      "authorship_tag": "ABX9TyMDxZg1/RVsi0DfF8GnAgLa",
      "include_colab_link": true
    },
    "kernelspec": {
      "name": "python3",
      "display_name": "Python 3"
    },
    "language_info": {
      "name": "python"
    }
  },
  "cells": [
    {
      "cell_type": "markdown",
      "metadata": {
        "id": "view-in-github",
        "colab_type": "text"
      },
      "source": [
        "<a href=\"https://colab.research.google.com/github/louisecastrof/Projects_and_Studies/blob/main/How_Bootcamps_Spark.ipynb\" target=\"_parent\"><img src=\"https://colab.research.google.com/assets/colab-badge.svg\" alt=\"Open In Colab\"/></a>"
      ]
    },
    {
      "cell_type": "markdown",
      "source": [
        "# Inicialização - Instalação e Contexto"
      ],
      "metadata": {
        "id": "mF4QA8FMVA59"
      }
    },
    {
      "cell_type": "code",
      "execution_count": 1,
      "metadata": {
        "colab": {
          "base_uri": "https://localhost:8080/"
        },
        "id": "l18qKgD_U94m",
        "outputId": "b9ed75a7-a3a7-4bc8-d1f9-1f22c3f6715c"
      },
      "outputs": [
        {
          "output_type": "stream",
          "name": "stdout",
          "text": [
            "Looking in indexes: https://pypi.org/simple, https://us-python.pkg.dev/colab-wheels/public/simple/\n",
            "Collecting pyspark\n",
            "  Downloading pyspark-3.4.0.tar.gz (310.8 MB)\n",
            "\u001b[2K     \u001b[90m━━━━━━━━━━━━━━━━━━━━━━━━━━━━━━━━━━━━━━━\u001b[0m \u001b[32m310.8/310.8 MB\u001b[0m \u001b[31m3.2 MB/s\u001b[0m eta \u001b[36m0:00:00\u001b[0m\n",
            "\u001b[?25h  Preparing metadata (setup.py) ... \u001b[?25l\u001b[?25hdone\n",
            "Requirement already satisfied: py4j==0.10.9.7 in /usr/local/lib/python3.9/dist-packages (from pyspark) (0.10.9.7)\n",
            "Building wheels for collected packages: pyspark\n",
            "  Building wheel for pyspark (setup.py) ... \u001b[?25l\u001b[?25hdone\n",
            "  Created wheel for pyspark: filename=pyspark-3.4.0-py2.py3-none-any.whl size=311317145 sha256=1543c02a96a3d975710b45c67cee60ba768777cbdc747038325720576175375a\n",
            "  Stored in directory: /root/.cache/pip/wheels/9f/34/a4/159aa12d0a510d5ff7c8f0220abbea42e5d81ecf588c4fd884\n",
            "Successfully built pyspark\n",
            "Installing collected packages: pyspark\n",
            "Successfully installed pyspark-3.4.0\n"
          ]
        }
      ],
      "source": [
        "# Instalar pyspark\n",
        "\n",
        "%pip install pyspark"
      ]
    },
    {
      "cell_type": "code",
      "source": [
        "# Importar SparkSession - possibilitando criar uma interface para interagir com o Spark e suas funcionalidades\n",
        "from pyspark.sql import SparkSession\n",
        "\n",
        "# Iniciando a sessão Spark\n",
        "#https://spark.apache.org/docs/latest/sql-getting-started.html\n",
        "spark = SparkSession.builder \\\n",
        "        .appName(\"Spark - How Bootcamps\") \\\n",
        "        .getOrCreate()"
      ],
      "metadata": {
        "id": "sDpPI_20VLrC"
      },
      "execution_count": 2,
      "outputs": []
    },
    {
      "cell_type": "code",
      "source": [
        "# Testando (printando) a sessão\n",
        "spark"
      ],
      "metadata": {
        "colab": {
          "base_uri": "https://localhost:8080/",
          "height": 219
        },
        "id": "PTzyO-oSVywr",
        "outputId": "1887802d-b772-4d50-81ad-cc31e275d00d"
      },
      "execution_count": 3,
      "outputs": [
        {
          "output_type": "execute_result",
          "data": {
            "text/plain": [
              "<pyspark.sql.session.SparkSession at 0x7f1c5529bac0>"
            ],
            "text/html": [
              "\n",
              "            <div>\n",
              "                <p><b>SparkSession - in-memory</b></p>\n",
              "                \n",
              "        <div>\n",
              "            <p><b>SparkContext</b></p>\n",
              "\n",
              "            <p><a href=\"http://daed5ab9a30e:4040\">Spark UI</a></p>\n",
              "\n",
              "            <dl>\n",
              "              <dt>Version</dt>\n",
              "                <dd><code>v3.4.0</code></dd>\n",
              "              <dt>Master</dt>\n",
              "                <dd><code>local[*]</code></dd>\n",
              "              <dt>AppName</dt>\n",
              "                <dd><code>Spark - How Bootcamps</code></dd>\n",
              "            </dl>\n",
              "        </div>\n",
              "        \n",
              "            </div>\n",
              "        "
            ]
          },
          "metadata": {},
          "execution_count": 3
        }
      ]
    },
    {
      "cell_type": "markdown",
      "source": [
        "# Criando o DataFrame e visualizando dados"
      ],
      "metadata": {
        "id": "dRKUPzRcbq56"
      }
    },
    {
      "cell_type": "code",
      "source": [
        "# Criando uma função para ler csv e retornar um schema\n",
        "def ler_csv(filename):\n",
        "  df = spark.read.format('csv').options(header='true', inferSchema='true').load(filename)\n",
        "  return df\n",
        "\n",
        "ler_csv('Matches.csv')"
      ],
      "metadata": {
        "colab": {
          "base_uri": "https://localhost:8080/"
        },
        "id": "8zzPNzuTZrCT",
        "outputId": "772faf57-0682-45e4-b637-55cd83454531"
      },
      "execution_count": 4,
      "outputs": [
        {
          "output_type": "execute_result",
          "data": {
            "text/plain": [
              "DataFrame[Match_ID: int, Div: string, Season: int, Date: date, HomeTeam: string, AwayTeam: string, FTHG: int, FTAG: int, FTR: string]"
            ]
          },
          "metadata": {},
          "execution_count": 4
        }
      ]
    },
    {
      "cell_type": "code",
      "source": [
        "# Atribuindo à um dataframe e mostrando as 5 primeiras linhas\n",
        "df = ler_csv('Matches.csv')\n",
        "df.limit(5).show()"
      ],
      "metadata": {
        "colab": {
          "base_uri": "https://localhost:8080/"
        },
        "id": "snUqzw3Mab8x",
        "outputId": "154e08c4-f116-4411-fa97-261c5420ba03"
      },
      "execution_count": 5,
      "outputs": [
        {
          "output_type": "stream",
          "name": "stdout",
          "text": [
            "+--------+---+------+----------+-------------+--------------+----+----+---+\n",
            "|Match_ID|Div|Season|      Date|     HomeTeam|      AwayTeam|FTHG|FTAG|FTR|\n",
            "+--------+---+------+----------+-------------+--------------+----+----+---+\n",
            "|       1| D2|  2009|2010-04-04|   Oberhausen|Kaiserslautern|   2|   1|  H|\n",
            "|       2| D2|  2009|2009-11-01|  Munich 1860|Kaiserslautern|   0|   1|  A|\n",
            "|       3| D2|  2009|2009-10-04|Frankfurt FSV|Kaiserslautern|   1|   1|  D|\n",
            "|       4| D2|  2009|2010-02-21|Frankfurt FSV|     Karlsruhe|   2|   1|  H|\n",
            "|       5| D2|  2009|2009-12-06|        Ahlen|     Karlsruhe|   1|   3|  A|\n",
            "+--------+---+------+----------+-------------+--------------+----+----+---+\n",
            "\n"
          ]
        }
      ]
    },
    {
      "cell_type": "code",
      "source": [
        "# Contando o total de linhas do dataframe\n",
        "df.count()"
      ],
      "metadata": {
        "colab": {
          "base_uri": "https://localhost:8080/"
        },
        "id": "48tYXdDEa8jr",
        "outputId": "c1f5f128-64fd-4acd-de31-0e59fc6d7d87"
      },
      "execution_count": 6,
      "outputs": [
        {
          "output_type": "execute_result",
          "data": {
            "text/plain": [
              "24625"
            ]
          },
          "metadata": {},
          "execution_count": 6
        }
      ]
    },
    {
      "cell_type": "code",
      "source": [
        "# Checando os tipos dos dados de cada coluna\n",
        "df.dtypes"
      ],
      "metadata": {
        "colab": {
          "base_uri": "https://localhost:8080/"
        },
        "id": "oFsjP6MibEFX",
        "outputId": "44408e5c-7fc6-4d1a-b74d-3581f951bbd6"
      },
      "execution_count": 7,
      "outputs": [
        {
          "output_type": "execute_result",
          "data": {
            "text/plain": [
              "[('Match_ID', 'int'),\n",
              " ('Div', 'string'),\n",
              " ('Season', 'int'),\n",
              " ('Date', 'date'),\n",
              " ('HomeTeam', 'string'),\n",
              " ('AwayTeam', 'string'),\n",
              " ('FTHG', 'int'),\n",
              " ('FTAG', 'int'),\n",
              " ('FTR', 'string')]"
            ]
          },
          "metadata": {},
          "execution_count": 7
        }
      ]
    },
    {
      "cell_type": "code",
      "source": [
        "# Uma outra possibilidade de visualização para as 5 primeiras linhas\n",
        "df.take(5)"
      ],
      "metadata": {
        "colab": {
          "base_uri": "https://localhost:8080/"
        },
        "id": "CuDkdA7xbJ2n",
        "outputId": "db10edd5-5203-4422-b81d-b772560d8bc1"
      },
      "execution_count": 8,
      "outputs": [
        {
          "output_type": "execute_result",
          "data": {
            "text/plain": [
              "[Row(Match_ID=1, Div='D2', Season=2009, Date=datetime.date(2010, 4, 4), HomeTeam='Oberhausen', AwayTeam='Kaiserslautern', FTHG=2, FTAG=1, FTR='H'),\n",
              " Row(Match_ID=2, Div='D2', Season=2009, Date=datetime.date(2009, 11, 1), HomeTeam='Munich 1860', AwayTeam='Kaiserslautern', FTHG=0, FTAG=1, FTR='A'),\n",
              " Row(Match_ID=3, Div='D2', Season=2009, Date=datetime.date(2009, 10, 4), HomeTeam='Frankfurt FSV', AwayTeam='Kaiserslautern', FTHG=1, FTAG=1, FTR='D'),\n",
              " Row(Match_ID=4, Div='D2', Season=2009, Date=datetime.date(2010, 2, 21), HomeTeam='Frankfurt FSV', AwayTeam='Karlsruhe', FTHG=2, FTAG=1, FTR='H'),\n",
              " Row(Match_ID=5, Div='D2', Season=2009, Date=datetime.date(2009, 12, 6), HomeTeam='Ahlen', AwayTeam='Karlsruhe', FTHG=1, FTAG=3, FTR='A')]"
            ]
          },
          "metadata": {},
          "execution_count": 8
        }
      ]
    },
    {
      "cell_type": "code",
      "source": [
        "# Visualizando o dataframe com Pandas\n",
        "df.limit(5).toPandas()"
      ],
      "metadata": {
        "colab": {
          "base_uri": "https://localhost:8080/",
          "height": 206
        },
        "id": "1HhgJSJRbiOw",
        "outputId": "307a169f-0668-4c17-d8ae-9fbd83db27f2"
      },
      "execution_count": 9,
      "outputs": [
        {
          "output_type": "execute_result",
          "data": {
            "text/plain": [
              "   Match_ID Div  Season        Date       HomeTeam        AwayTeam  FTHG  \\\n",
              "0         1  D2    2009  2010-04-04     Oberhausen  Kaiserslautern     2   \n",
              "1         2  D2    2009  2009-11-01    Munich 1860  Kaiserslautern     0   \n",
              "2         3  D2    2009  2009-10-04  Frankfurt FSV  Kaiserslautern     1   \n",
              "3         4  D2    2009  2010-02-21  Frankfurt FSV       Karlsruhe     2   \n",
              "4         5  D2    2009  2009-12-06          Ahlen       Karlsruhe     1   \n",
              "\n",
              "   FTAG FTR  \n",
              "0     1   H  \n",
              "1     1   A  \n",
              "2     1   D  \n",
              "3     1   H  \n",
              "4     3   A  "
            ],
            "text/html": [
              "\n",
              "  <div id=\"df-93126d9f-7c1e-4813-bcc7-01e79d1e836d\">\n",
              "    <div class=\"colab-df-container\">\n",
              "      <div>\n",
              "<style scoped>\n",
              "    .dataframe tbody tr th:only-of-type {\n",
              "        vertical-align: middle;\n",
              "    }\n",
              "\n",
              "    .dataframe tbody tr th {\n",
              "        vertical-align: top;\n",
              "    }\n",
              "\n",
              "    .dataframe thead th {\n",
              "        text-align: right;\n",
              "    }\n",
              "</style>\n",
              "<table border=\"1\" class=\"dataframe\">\n",
              "  <thead>\n",
              "    <tr style=\"text-align: right;\">\n",
              "      <th></th>\n",
              "      <th>Match_ID</th>\n",
              "      <th>Div</th>\n",
              "      <th>Season</th>\n",
              "      <th>Date</th>\n",
              "      <th>HomeTeam</th>\n",
              "      <th>AwayTeam</th>\n",
              "      <th>FTHG</th>\n",
              "      <th>FTAG</th>\n",
              "      <th>FTR</th>\n",
              "    </tr>\n",
              "  </thead>\n",
              "  <tbody>\n",
              "    <tr>\n",
              "      <th>0</th>\n",
              "      <td>1</td>\n",
              "      <td>D2</td>\n",
              "      <td>2009</td>\n",
              "      <td>2010-04-04</td>\n",
              "      <td>Oberhausen</td>\n",
              "      <td>Kaiserslautern</td>\n",
              "      <td>2</td>\n",
              "      <td>1</td>\n",
              "      <td>H</td>\n",
              "    </tr>\n",
              "    <tr>\n",
              "      <th>1</th>\n",
              "      <td>2</td>\n",
              "      <td>D2</td>\n",
              "      <td>2009</td>\n",
              "      <td>2009-11-01</td>\n",
              "      <td>Munich 1860</td>\n",
              "      <td>Kaiserslautern</td>\n",
              "      <td>0</td>\n",
              "      <td>1</td>\n",
              "      <td>A</td>\n",
              "    </tr>\n",
              "    <tr>\n",
              "      <th>2</th>\n",
              "      <td>3</td>\n",
              "      <td>D2</td>\n",
              "      <td>2009</td>\n",
              "      <td>2009-10-04</td>\n",
              "      <td>Frankfurt FSV</td>\n",
              "      <td>Kaiserslautern</td>\n",
              "      <td>1</td>\n",
              "      <td>1</td>\n",
              "      <td>D</td>\n",
              "    </tr>\n",
              "    <tr>\n",
              "      <th>3</th>\n",
              "      <td>4</td>\n",
              "      <td>D2</td>\n",
              "      <td>2009</td>\n",
              "      <td>2010-02-21</td>\n",
              "      <td>Frankfurt FSV</td>\n",
              "      <td>Karlsruhe</td>\n",
              "      <td>2</td>\n",
              "      <td>1</td>\n",
              "      <td>H</td>\n",
              "    </tr>\n",
              "    <tr>\n",
              "      <th>4</th>\n",
              "      <td>5</td>\n",
              "      <td>D2</td>\n",
              "      <td>2009</td>\n",
              "      <td>2009-12-06</td>\n",
              "      <td>Ahlen</td>\n",
              "      <td>Karlsruhe</td>\n",
              "      <td>1</td>\n",
              "      <td>3</td>\n",
              "      <td>A</td>\n",
              "    </tr>\n",
              "  </tbody>\n",
              "</table>\n",
              "</div>\n",
              "      <button class=\"colab-df-convert\" onclick=\"convertToInteractive('df-93126d9f-7c1e-4813-bcc7-01e79d1e836d')\"\n",
              "              title=\"Convert this dataframe to an interactive table.\"\n",
              "              style=\"display:none;\">\n",
              "        \n",
              "  <svg xmlns=\"http://www.w3.org/2000/svg\" height=\"24px\"viewBox=\"0 0 24 24\"\n",
              "       width=\"24px\">\n",
              "    <path d=\"M0 0h24v24H0V0z\" fill=\"none\"/>\n",
              "    <path d=\"M18.56 5.44l.94 2.06.94-2.06 2.06-.94-2.06-.94-.94-2.06-.94 2.06-2.06.94zm-11 1L8.5 8.5l.94-2.06 2.06-.94-2.06-.94L8.5 2.5l-.94 2.06-2.06.94zm10 10l.94 2.06.94-2.06 2.06-.94-2.06-.94-.94-2.06-.94 2.06-2.06.94z\"/><path d=\"M17.41 7.96l-1.37-1.37c-.4-.4-.92-.59-1.43-.59-.52 0-1.04.2-1.43.59L10.3 9.45l-7.72 7.72c-.78.78-.78 2.05 0 2.83L4 21.41c.39.39.9.59 1.41.59.51 0 1.02-.2 1.41-.59l7.78-7.78 2.81-2.81c.8-.78.8-2.07 0-2.86zM5.41 20L4 18.59l7.72-7.72 1.47 1.35L5.41 20z\"/>\n",
              "  </svg>\n",
              "      </button>\n",
              "      \n",
              "  <style>\n",
              "    .colab-df-container {\n",
              "      display:flex;\n",
              "      flex-wrap:wrap;\n",
              "      gap: 12px;\n",
              "    }\n",
              "\n",
              "    .colab-df-convert {\n",
              "      background-color: #E8F0FE;\n",
              "      border: none;\n",
              "      border-radius: 50%;\n",
              "      cursor: pointer;\n",
              "      display: none;\n",
              "      fill: #1967D2;\n",
              "      height: 32px;\n",
              "      padding: 0 0 0 0;\n",
              "      width: 32px;\n",
              "    }\n",
              "\n",
              "    .colab-df-convert:hover {\n",
              "      background-color: #E2EBFA;\n",
              "      box-shadow: 0px 1px 2px rgba(60, 64, 67, 0.3), 0px 1px 3px 1px rgba(60, 64, 67, 0.15);\n",
              "      fill: #174EA6;\n",
              "    }\n",
              "\n",
              "    [theme=dark] .colab-df-convert {\n",
              "      background-color: #3B4455;\n",
              "      fill: #D2E3FC;\n",
              "    }\n",
              "\n",
              "    [theme=dark] .colab-df-convert:hover {\n",
              "      background-color: #434B5C;\n",
              "      box-shadow: 0px 1px 3px 1px rgba(0, 0, 0, 0.15);\n",
              "      filter: drop-shadow(0px 1px 2px rgba(0, 0, 0, 0.3));\n",
              "      fill: #FFFFFF;\n",
              "    }\n",
              "  </style>\n",
              "\n",
              "      <script>\n",
              "        const buttonEl =\n",
              "          document.querySelector('#df-93126d9f-7c1e-4813-bcc7-01e79d1e836d button.colab-df-convert');\n",
              "        buttonEl.style.display =\n",
              "          google.colab.kernel.accessAllowed ? 'block' : 'none';\n",
              "\n",
              "        async function convertToInteractive(key) {\n",
              "          const element = document.querySelector('#df-93126d9f-7c1e-4813-bcc7-01e79d1e836d');\n",
              "          const dataTable =\n",
              "            await google.colab.kernel.invokeFunction('convertToInteractive',\n",
              "                                                     [key], {});\n",
              "          if (!dataTable) return;\n",
              "\n",
              "          const docLinkHtml = 'Like what you see? Visit the ' +\n",
              "            '<a target=\"_blank\" href=https://colab.research.google.com/notebooks/data_table.ipynb>data table notebook</a>'\n",
              "            + ' to learn more about interactive tables.';\n",
              "          element.innerHTML = '';\n",
              "          dataTable['output_type'] = 'display_data';\n",
              "          await google.colab.output.renderOutput(dataTable, element);\n",
              "          const docLink = document.createElement('div');\n",
              "          docLink.innerHTML = docLinkHtml;\n",
              "          element.appendChild(docLink);\n",
              "        }\n",
              "      </script>\n",
              "    </div>\n",
              "  </div>\n",
              "  "
            ]
          },
          "metadata": {},
          "execution_count": 9
        }
      ]
    },
    {
      "cell_type": "markdown",
      "source": [
        "# Transformando dados"
      ],
      "metadata": {
        "id": "5391C4d6bxOC"
      }
    },
    {
      "cell_type": "code",
      "source": [
        "# Traduzindo as colunas\n",
        "# FTHG = Full Time Home Team Goals\n",
        "# FTAG = Full Time Away Team Goals\n",
        "# FTR and Res = Full Time Result (H=Home Win, D=Draw, A=Away Win)\n",
        "df.columns"
      ],
      "metadata": {
        "colab": {
          "base_uri": "https://localhost:8080/"
        },
        "id": "3oqLFWJnbzAy",
        "outputId": "a3a1255f-4f20-4246-a30c-7101ab5b128b"
      },
      "execution_count": 11,
      "outputs": [
        {
          "output_type": "execute_result",
          "data": {
            "text/plain": [
              "['Match_ID',\n",
              " 'Div',\n",
              " 'Season',\n",
              " 'Date',\n",
              " 'HomeTeam',\n",
              " 'AwayTeam',\n",
              " 'FTHG',\n",
              " 'FTAG',\n",
              " 'FTR']"
            ]
          },
          "metadata": {},
          "execution_count": 11
        }
      ]
    },
    {
      "cell_type": "code",
      "source": [
        "# Possível forma de renomear uma coluna\n",
        "df_traduzido1 = df.withColumnRenamed('Match_ID', 'IDPartida') \\\n",
        ".withColumnRenamed('Div','Divisao') \\\n",
        ".withColumnRenamed('Season','Temporada') \\\n",
        ".withColumnRenamed('Date','Data') \\\n",
        ".withColumnRenamed('HomeTeam','TimeDaCasa') \\\n",
        ".withColumnRenamed('AwayTeam', 'TimeDeFora') \\\n",
        ".withColumnRenamed('FTGH', 'ResultadoTimeDaCasa') \\\n",
        ".withColumnRenamed('FTAG', 'ResultadoTimeDeFora') \\\n",
        ".withColumnRenamed('FTR', 'ResultadoFinal') \\\n",
        "\n",
        "df_traduzido1.limit(5).show()"
      ],
      "metadata": {
        "colab": {
          "base_uri": "https://localhost:8080/"
        },
        "id": "K8uq1bkdcLvl",
        "outputId": "2da1d25e-a26d-4c58-c174-955e33b99931"
      },
      "execution_count": 13,
      "outputs": [
        {
          "output_type": "stream",
          "name": "stdout",
          "text": [
            "+---------+-------+---------+----------+-------------+--------------+----+-------------------+--------------+\n",
            "|IDPartida|Divisao|Temporada|      Data|   TimeDaCasa|    TimeDeFora|FTHG|ResultadoTimeDeFora|ResultadoFinal|\n",
            "+---------+-------+---------+----------+-------------+--------------+----+-------------------+--------------+\n",
            "|        1|     D2|     2009|2010-04-04|   Oberhausen|Kaiserslautern|   2|                  1|             H|\n",
            "|        2|     D2|     2009|2009-11-01|  Munich 1860|Kaiserslautern|   0|                  1|             A|\n",
            "|        3|     D2|     2009|2009-10-04|Frankfurt FSV|Kaiserslautern|   1|                  1|             D|\n",
            "|        4|     D2|     2009|2010-02-21|Frankfurt FSV|     Karlsruhe|   2|                  1|             H|\n",
            "|        5|     D2|     2009|2009-12-06|        Ahlen|     Karlsruhe|   1|                  3|             A|\n",
            "+---------+-------+---------+----------+-------------+--------------+----+-------------------+--------------+\n",
            "\n"
          ]
        }
      ]
    },
    {
      "cell_type": "code",
      "source": [
        "# Possível forma de renomear várias colunas\n",
        "df_traduzido2 = df\n",
        "nomes_antigos = df_traduzido2.columns\n",
        "nomes_novos = [\"IDPartida\", \"Divisao\", \"Temporada\", \"Data\", \"TimeDaCasa\", \"TimeDeFora\", \"ResultadoTimeDaCasa\", \"ResultadoTimeDeFora\", \"ResultadoFinal\"]\n",
        "df_traduzido = [*zip(nomes_antigos, nomes_novos)]\n",
        "for antigo, novo in df_traduzido:\n",
        "    df_traduzido2 = df_traduzido2.withColumnRenamed(antigo, novo)\n",
        "\n",
        "df_traduzido2.limit(5).show()"
      ],
      "metadata": {
        "colab": {
          "base_uri": "https://localhost:8080/"
        },
        "id": "BpvmIEsdcaFS",
        "outputId": "5d3adeec-fe51-4c37-ba87-cc4f1f82137d"
      },
      "execution_count": 14,
      "outputs": [
        {
          "output_type": "stream",
          "name": "stdout",
          "text": [
            "+---------+-------+---------+----------+-------------+--------------+-------------------+-------------------+--------------+\n",
            "|IDPartida|Divisao|Temporada|      Data|   TimeDaCasa|    TimeDeFora|ResultadoTimeDaCasa|ResultadoTimeDeFora|ResultadoFinal|\n",
            "+---------+-------+---------+----------+-------------+--------------+-------------------+-------------------+--------------+\n",
            "|        1|     D2|     2009|2010-04-04|   Oberhausen|Kaiserslautern|                  2|                  1|             H|\n",
            "|        2|     D2|     2009|2009-11-01|  Munich 1860|Kaiserslautern|                  0|                  1|             A|\n",
            "|        3|     D2|     2009|2009-10-04|Frankfurt FSV|Kaiserslautern|                  1|                  1|             D|\n",
            "|        4|     D2|     2009|2010-02-21|Frankfurt FSV|     Karlsruhe|                  2|                  1|             H|\n",
            "|        5|     D2|     2009|2009-12-06|        Ahlen|     Karlsruhe|                  1|                  3|             A|\n",
            "+---------+-------+---------+----------+-------------+--------------+-------------------+-------------------+--------------+\n",
            "\n"
          ]
        }
      ]
    },
    {
      "cell_type": "markdown",
      "source": [
        "# Usando SQL com Spark"
      ],
      "metadata": {
        "id": "JZKGNFObiYu1"
      }
    },
    {
      "cell_type": "code",
      "source": [
        "# Criando uma view para poder usar o SQL\n",
        "df_traduzido2.createOrReplaceTempView(\"PartidasDeFutebol\")"
      ],
      "metadata": {
        "id": "9GDhooeDfUZ6"
      },
      "execution_count": 16,
      "outputs": []
    },
    {
      "cell_type": "code",
      "source": [
        "# Selecionado Divisão e datas\n",
        "spark.sql(\"SELECT Divisao, Data FROM PartidasDeFutebol\") \\\n",
        "     .show(5)"
      ],
      "metadata": {
        "colab": {
          "base_uri": "https://localhost:8080/"
        },
        "id": "rO8XE9zniy0v",
        "outputId": "e4ebecbb-83c9-488d-d06d-080ce8456953"
      },
      "execution_count": 17,
      "outputs": [
        {
          "output_type": "stream",
          "name": "stdout",
          "text": [
            "+-------+----------+\n",
            "|Divisao|      Data|\n",
            "+-------+----------+\n",
            "|     D2|2010-04-04|\n",
            "|     D2|2009-11-01|\n",
            "|     D2|2009-10-04|\n",
            "|     D2|2010-02-21|\n",
            "|     D2|2009-12-06|\n",
            "+-------+----------+\n",
            "only showing top 5 rows\n",
            "\n"
          ]
        }
      ]
    },
    {
      "cell_type": "code",
      "source": [
        "# Selecionado e transformando data\n",
        "spark.sql(\"SELECT Divisao, TimeDaCasa, TimeDeFora, Data FROM PartidasDeFutebol WHERE Data > '2010-01-01' ORDER BY Data DESC\")  \\\n",
        "     .show()"
      ],
      "metadata": {
        "colab": {
          "base_uri": "https://localhost:8080/"
        },
        "id": "7JxNfSGgkKxg",
        "outputId": "5fa4a626-be62-4b7c-e92d-3c0ee38e74cc"
      },
      "execution_count": 38,
      "outputs": [
        {
          "output_type": "stream",
          "name": "stdout",
          "text": [
            "+-------+--------------+------------------+----------+\n",
            "|Divisao|    TimeDaCasa|        TimeDeFora|      Data|\n",
            "+-------+--------------+------------------+----------+\n",
            "|     D2|    Ingolstadt|    Kaiserslautern|2018-05-13|\n",
            "|     D2|      Duisburg|          St Pauli|2018-05-13|\n",
            "|     D2|    Heidenheim|    Greuther Furth|2018-05-13|\n",
            "|     D2|       Dresden|      Union Berlin|2018-05-13|\n",
            "|     D2|          Kiel|      Braunschweig|2018-05-13|\n",
            "|     D2|     Darmstadt|    Erzgebirge Aue|2018-05-13|\n",
            "|     D2|        Bochum|        Regensburg|2018-05-13|\n",
            "|     D2|      Nurnberg|Fortuna Dusseldorf|2018-05-13|\n",
            "|     D2|     Bielefeld|        Sandhausen|2018-05-13|\n",
            "|     D1|    Hoffenheim|          Dortmund|2018-05-12|\n",
            "|     D1|    Schalke 04|     Ein Frankfurt|2018-05-12|\n",
            "|     D1|     Wolfsburg|           FC Koln|2018-05-12|\n",
            "|     D1| Bayern Munich|         Stuttgart|2018-05-12|\n",
            "|     D1|         Mainz|     Werder Bremen|2018-05-12|\n",
            "|     D1|      Freiburg|          Augsburg|2018-05-12|\n",
            "|     D1|    Leverkusen|          Hannover|2018-05-12|\n",
            "|     D1|       Hamburg|        M'gladbach|2018-05-12|\n",
            "|     D1|        Hertha|        RB Leipzig|2018-05-12|\n",
            "|     D2|Erzgebirge Aue|           Dresden|2018-05-06|\n",
            "|     D2|    Sandhausen|          Nurnberg|2018-05-06|\n",
            "+-------+--------------+------------------+----------+\n",
            "only showing top 20 rows\n",
            "\n"
          ]
        }
      ]
    }
  ]
}