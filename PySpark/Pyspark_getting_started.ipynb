{
  "nbformat": 4,
  "nbformat_minor": 0,
  "metadata": {
    "colab": {
      "provenance": [],
      "collapsed_sections": [
        "A0njhiowHvgc",
        "RRr0M8E7Hz89",
        "BX3ktGDSObJI"
      ],
      "authorship_tag": "ABX9TyOSIJjYmPnKcRwGwgdTEfto",
      "include_colab_link": true
    },
    "kernelspec": {
      "name": "python3",
      "display_name": "Python 3"
    },
    "language_info": {
      "name": "python"
    }
  },
  "cells": [
    {
      "cell_type": "markdown",
      "metadata": {
        "id": "view-in-github",
        "colab_type": "text"
      },
      "source": [
        "<a href=\"https://colab.research.google.com/github/louisecastrof/PySpark/blob/main/Pyspark_getting_started.ipynb\" target=\"_parent\"><img src=\"https://colab.research.google.com/assets/colab-badge.svg\" alt=\"Open In Colab\"/></a>"
      ]
    },
    {
      "cell_type": "markdown",
      "source": [
        "## Getting started with installation and context\n"
      ],
      "metadata": {
        "id": "A0njhiowHvgc"
      }
    },
    {
      "cell_type": "code",
      "execution_count": 2,
      "metadata": {
        "id": "mf8ph6V0GoJq",
        "colab": {
          "base_uri": "https://localhost:8080/"
        },
        "outputId": "6b394bbd-47c9-48bc-91cd-f558af4c6d63"
      },
      "outputs": [
        {
          "output_type": "stream",
          "name": "stdout",
          "text": [
            "Looking in indexes: https://pypi.org/simple, https://us-python.pkg.dev/colab-wheels/public/simple/\n",
            "Collecting pyspark\n",
            "  Downloading pyspark-3.3.1.tar.gz (281.4 MB)\n",
            "\u001b[2K     \u001b[90m━━━━━━━━━━━━━━━━━━━━━━━━━━━━━━━━━━━━━━━\u001b[0m \u001b[32m281.4/281.4 MB\u001b[0m \u001b[31m4.8 MB/s\u001b[0m eta \u001b[36m0:00:00\u001b[0m\n",
            "\u001b[?25h  Preparing metadata (setup.py) ... \u001b[?25l\u001b[?25hdone\n",
            "Collecting py4j==0.10.9.5\n",
            "  Downloading py4j-0.10.9.5-py2.py3-none-any.whl (199 kB)\n",
            "\u001b[2K     \u001b[90m━━━━━━━━━━━━━━━━━━━━━━━━━━━━━━━━━━━━━━\u001b[0m \u001b[32m199.7/199.7 KB\u001b[0m \u001b[31m23.1 MB/s\u001b[0m eta \u001b[36m0:00:00\u001b[0m\n",
            "\u001b[?25hBuilding wheels for collected packages: pyspark\n",
            "  Building wheel for pyspark (setup.py) ... \u001b[?25l\u001b[?25hdone\n",
            "  Created wheel for pyspark: filename=pyspark-3.3.1-py2.py3-none-any.whl size=281845512 sha256=6ca2157cfb5c24519ca19f745f61ce1f2b76369554ecf20859dda91b766fc0de\n",
            "  Stored in directory: /root/.cache/pip/wheels/43/dc/11/ec201cd671da62fa9c5cc77078235e40722170ceba231d7598\n",
            "Successfully built pyspark\n",
            "Installing collected packages: py4j, pyspark\n",
            "Successfully installed py4j-0.10.9.5 pyspark-3.3.1\n"
          ]
        }
      ],
      "source": [
        "# As I am using Colab research, this cell needs to be executed every beginning of the session\n",
        "\n",
        "%pip install pyspark"
      ]
    },
    {
      "cell_type": "code",
      "source": [
        "# Importing the package to start a Spark Session\n",
        "from pyspark.sql import SparkSession\n",
        "\n",
        "# Starting the Spark context\n",
        "sc = SparkSession.builder.master('local[*]').getOrCreate()\n",
        "\n",
        "# Checking if the context was successfully created\n",
        "sc"
      ],
      "metadata": {
        "id": "G3jwdx3FG0VQ",
        "colab": {
          "base_uri": "https://localhost:8080/",
          "height": 219
        },
        "outputId": "62a42cb3-0b7f-4047-f6a4-cc82dc1a1833"
      },
      "execution_count": 3,
      "outputs": [
        {
          "output_type": "execute_result",
          "data": {
            "text/plain": [
              "<pyspark.sql.session.SparkSession at 0x7f3591d04250>"
            ],
            "text/html": [
              "\n",
              "            <div>\n",
              "                <p><b>SparkSession - in-memory</b></p>\n",
              "                \n",
              "        <div>\n",
              "            <p><b>SparkContext</b></p>\n",
              "\n",
              "            <p><a href=\"http://bc28726d5c79:4040\">Spark UI</a></p>\n",
              "\n",
              "            <dl>\n",
              "              <dt>Version</dt>\n",
              "                <dd><code>v3.3.1</code></dd>\n",
              "              <dt>Master</dt>\n",
              "                <dd><code>local[*]</code></dd>\n",
              "              <dt>AppName</dt>\n",
              "                <dd><code>pyspark-shell</code></dd>\n",
              "            </dl>\n",
              "        </div>\n",
              "        \n",
              "            </div>\n",
              "        "
            ]
          },
          "metadata": {},
          "execution_count": 3
        }
      ]
    },
    {
      "cell_type": "code",
      "source": [
        "#https://spark.apache.org/docs/latest/sql-getting-started.html\n",
        "spark = SparkSession \\\n",
        "        .builder \\\n",
        "        .appName(\"firstSpark\") \\\n",
        "        .getOrCreate()"
      ],
      "metadata": {
        "id": "-APmUCKwJm_I"
      },
      "execution_count": 4,
      "outputs": []
    },
    {
      "cell_type": "markdown",
      "source": [
        "## Loading From CSV"
      ],
      "metadata": {
        "id": "RRr0M8E7Hz89"
      }
    },
    {
      "cell_type": "markdown",
      "source": [
        "There are two ways of handling the data types for each of the columns of our CSV. We can use:\n",
        "\n",
        "> \"inferSchema = True\"\n",
        "\n",
        "\n",
        "And it will automatically get the types and columns, but it is more computationally expensive. If we want to make it lighter, we could use:\n",
        "\n",
        "> \"schema=StructType(...)\" \n",
        "\n",
        "And mention the types one by one, though lighter it is proner to human mistakes. Since today we'll be using a very light CSV file, we'll go with the first option.\n",
        "\n",
        "\n",
        "\n",
        "\n"
      ],
      "metadata": {
        "id": "Ev8oIvTjH-hO"
      }
    },
    {
      "cell_type": "code",
      "source": [
        "# Creating a function to return the df, then loading the data with the schema inferred:\n",
        "def load_dataframe(filename):\n",
        "    df = spark.read.format('csv').options(header='true', inferSchema='true').load(filename)\n",
        "    return df\n",
        "\n",
        "df = load_dataframe('sample_data/Matches.csv')\n",
        "df.limit(5).show()"
      ],
      "metadata": {
        "colab": {
          "base_uri": "https://localhost:8080/"
        },
        "id": "Jk9v4jvMHnQy",
        "outputId": "1f0a9005-3db1-4032-a884-a52d1fb4865c"
      },
      "execution_count": 13,
      "outputs": [
        {
          "output_type": "stream",
          "name": "stdout",
          "text": [
            "+--------+---+------+-------------------+-------------+--------------+----+----+---+\n",
            "|Match_ID|Div|Season|               Date|     HomeTeam|      AwayTeam|FTHG|FTAG|FTR|\n",
            "+--------+---+------+-------------------+-------------+--------------+----+----+---+\n",
            "|       1| D2|  2009|2010-04-04 00:00:00|   Oberhausen|Kaiserslautern|   2|   1|  H|\n",
            "|       2| D2|  2009|2009-11-01 00:00:00|  Munich 1860|Kaiserslautern|   0|   1|  A|\n",
            "|       3| D2|  2009|2009-10-04 00:00:00|Frankfurt FSV|Kaiserslautern|   1|   1|  D|\n",
            "|       4| D2|  2009|2010-02-21 00:00:00|Frankfurt FSV|     Karlsruhe|   2|   1|  H|\n",
            "|       5| D2|  2009|2009-12-06 00:00:00|        Ahlen|     Karlsruhe|   1|   3|  A|\n",
            "+--------+---+------+-------------------+-------------+--------------+----+----+---+\n",
            "\n"
          ]
        }
      ]
    },
    {
      "cell_type": "code",
      "source": [
        "# Count the number of rows of the df\n",
        "df.count()"
      ],
      "metadata": {
        "colab": {
          "base_uri": "https://localhost:8080/"
        },
        "id": "QuojS7xoLZ7L",
        "outputId": "488b7e31-3281-496f-fb75-fcfff8351015"
      },
      "execution_count": 14,
      "outputs": [
        {
          "output_type": "execute_result",
          "data": {
            "text/plain": [
              "24625"
            ]
          },
          "metadata": {},
          "execution_count": 14
        }
      ]
    },
    {
      "cell_type": "code",
      "source": [
        "# Checking the types of the data of each column\n",
        "df.dtypes"
      ],
      "metadata": {
        "colab": {
          "base_uri": "https://localhost:8080/"
        },
        "id": "leOupYJ8Lmuy",
        "outputId": "59017f8c-2704-4eee-9485-c39218dc8040"
      },
      "execution_count": 15,
      "outputs": [
        {
          "output_type": "execute_result",
          "data": {
            "text/plain": [
              "[('Match_ID', 'int'),\n",
              " ('Div', 'string'),\n",
              " ('Season', 'int'),\n",
              " ('Date', 'timestamp'),\n",
              " ('HomeTeam', 'string'),\n",
              " ('AwayTeam', 'string'),\n",
              " ('FTHG', 'int'),\n",
              " ('FTAG', 'int'),\n",
              " ('FTR', 'string')]"
            ]
          },
          "metadata": {},
          "execution_count": 15
        }
      ]
    },
    {
      "cell_type": "code",
      "source": [
        "# Ugly way of taking a look at the first five rows\n",
        "df.take(5)"
      ],
      "metadata": {
        "colab": {
          "base_uri": "https://localhost:8080/"
        },
        "id": "AEvMNpp-Lw0C",
        "outputId": "f3e0f53e-50a1-4149-aa1b-3a075d4032a4"
      },
      "execution_count": 16,
      "outputs": [
        {
          "output_type": "execute_result",
          "data": {
            "text/plain": [
              "[Row(Match_ID=1, Div='D2', Season=2009, Date=datetime.datetime(2010, 4, 4, 0, 0), HomeTeam='Oberhausen', AwayTeam='Kaiserslautern', FTHG=2, FTAG=1, FTR='H'),\n",
              " Row(Match_ID=2, Div='D2', Season=2009, Date=datetime.datetime(2009, 11, 1, 0, 0), HomeTeam='Munich 1860', AwayTeam='Kaiserslautern', FTHG=0, FTAG=1, FTR='A'),\n",
              " Row(Match_ID=3, Div='D2', Season=2009, Date=datetime.datetime(2009, 10, 4, 0, 0), HomeTeam='Frankfurt FSV', AwayTeam='Kaiserslautern', FTHG=1, FTAG=1, FTR='D'),\n",
              " Row(Match_ID=4, Div='D2', Season=2009, Date=datetime.datetime(2010, 2, 21, 0, 0), HomeTeam='Frankfurt FSV', AwayTeam='Karlsruhe', FTHG=2, FTAG=1, FTR='H'),\n",
              " Row(Match_ID=5, Div='D2', Season=2009, Date=datetime.datetime(2009, 12, 6, 0, 0), HomeTeam='Ahlen', AwayTeam='Karlsruhe', FTHG=1, FTAG=3, FTR='A')]"
            ]
          },
          "metadata": {},
          "execution_count": 16
        }
      ]
    },
    {
      "cell_type": "code",
      "source": [
        "# Beautiful way of doing so\n",
        "df.limit(5).show()"
      ],
      "metadata": {
        "colab": {
          "base_uri": "https://localhost:8080/"
        },
        "id": "1D7lJJh_L9Kv",
        "outputId": "630c5723-dbf7-4612-dd00-f1b25f2ad0e2"
      },
      "execution_count": 17,
      "outputs": [
        {
          "output_type": "stream",
          "name": "stdout",
          "text": [
            "+--------+---+------+-------------------+-------------+--------------+----+----+---+\n",
            "|Match_ID|Div|Season|               Date|     HomeTeam|      AwayTeam|FTHG|FTAG|FTR|\n",
            "+--------+---+------+-------------------+-------------+--------------+----+----+---+\n",
            "|       1| D2|  2009|2010-04-04 00:00:00|   Oberhausen|Kaiserslautern|   2|   1|  H|\n",
            "|       2| D2|  2009|2009-11-01 00:00:00|  Munich 1860|Kaiserslautern|   0|   1|  A|\n",
            "|       3| D2|  2009|2009-10-04 00:00:00|Frankfurt FSV|Kaiserslautern|   1|   1|  D|\n",
            "|       4| D2|  2009|2010-02-21 00:00:00|Frankfurt FSV|     Karlsruhe|   2|   1|  H|\n",
            "|       5| D2|  2009|2009-12-06 00:00:00|        Ahlen|     Karlsruhe|   1|   3|  A|\n",
            "+--------+---+------+-------------------+-------------+--------------+----+----+---+\n",
            "\n"
          ]
        }
      ]
    },
    {
      "cell_type": "code",
      "source": [
        "# Even more beautiful but with Pandas\n",
        "df.limit(5).toPandas()"
      ],
      "metadata": {
        "colab": {
          "base_uri": "https://localhost:8080/",
          "height": 206
        },
        "id": "2TTrnjiLMMqA",
        "outputId": "e4800395-6f67-4d06-8c82-8b9f14b4deb7"
      },
      "execution_count": 18,
      "outputs": [
        {
          "output_type": "execute_result",
          "data": {
            "text/plain": [
              "   Match_ID Div  Season       Date       HomeTeam        AwayTeam  FTHG  FTAG  \\\n",
              "0         1  D2    2009 2010-04-04     Oberhausen  Kaiserslautern     2     1   \n",
              "1         2  D2    2009 2009-11-01    Munich 1860  Kaiserslautern     0     1   \n",
              "2         3  D2    2009 2009-10-04  Frankfurt FSV  Kaiserslautern     1     1   \n",
              "3         4  D2    2009 2010-02-21  Frankfurt FSV       Karlsruhe     2     1   \n",
              "4         5  D2    2009 2009-12-06          Ahlen       Karlsruhe     1     3   \n",
              "\n",
              "  FTR  \n",
              "0   H  \n",
              "1   A  \n",
              "2   D  \n",
              "3   H  \n",
              "4   A  "
            ],
            "text/html": [
              "\n",
              "  <div id=\"df-26eda4d8-0c18-48cd-9cdc-393b61b0131f\">\n",
              "    <div class=\"colab-df-container\">\n",
              "      <div>\n",
              "<style scoped>\n",
              "    .dataframe tbody tr th:only-of-type {\n",
              "        vertical-align: middle;\n",
              "    }\n",
              "\n",
              "    .dataframe tbody tr th {\n",
              "        vertical-align: top;\n",
              "    }\n",
              "\n",
              "    .dataframe thead th {\n",
              "        text-align: right;\n",
              "    }\n",
              "</style>\n",
              "<table border=\"1\" class=\"dataframe\">\n",
              "  <thead>\n",
              "    <tr style=\"text-align: right;\">\n",
              "      <th></th>\n",
              "      <th>Match_ID</th>\n",
              "      <th>Div</th>\n",
              "      <th>Season</th>\n",
              "      <th>Date</th>\n",
              "      <th>HomeTeam</th>\n",
              "      <th>AwayTeam</th>\n",
              "      <th>FTHG</th>\n",
              "      <th>FTAG</th>\n",
              "      <th>FTR</th>\n",
              "    </tr>\n",
              "  </thead>\n",
              "  <tbody>\n",
              "    <tr>\n",
              "      <th>0</th>\n",
              "      <td>1</td>\n",
              "      <td>D2</td>\n",
              "      <td>2009</td>\n",
              "      <td>2010-04-04</td>\n",
              "      <td>Oberhausen</td>\n",
              "      <td>Kaiserslautern</td>\n",
              "      <td>2</td>\n",
              "      <td>1</td>\n",
              "      <td>H</td>\n",
              "    </tr>\n",
              "    <tr>\n",
              "      <th>1</th>\n",
              "      <td>2</td>\n",
              "      <td>D2</td>\n",
              "      <td>2009</td>\n",
              "      <td>2009-11-01</td>\n",
              "      <td>Munich 1860</td>\n",
              "      <td>Kaiserslautern</td>\n",
              "      <td>0</td>\n",
              "      <td>1</td>\n",
              "      <td>A</td>\n",
              "    </tr>\n",
              "    <tr>\n",
              "      <th>2</th>\n",
              "      <td>3</td>\n",
              "      <td>D2</td>\n",
              "      <td>2009</td>\n",
              "      <td>2009-10-04</td>\n",
              "      <td>Frankfurt FSV</td>\n",
              "      <td>Kaiserslautern</td>\n",
              "      <td>1</td>\n",
              "      <td>1</td>\n",
              "      <td>D</td>\n",
              "    </tr>\n",
              "    <tr>\n",
              "      <th>3</th>\n",
              "      <td>4</td>\n",
              "      <td>D2</td>\n",
              "      <td>2009</td>\n",
              "      <td>2010-02-21</td>\n",
              "      <td>Frankfurt FSV</td>\n",
              "      <td>Karlsruhe</td>\n",
              "      <td>2</td>\n",
              "      <td>1</td>\n",
              "      <td>H</td>\n",
              "    </tr>\n",
              "    <tr>\n",
              "      <th>4</th>\n",
              "      <td>5</td>\n",
              "      <td>D2</td>\n",
              "      <td>2009</td>\n",
              "      <td>2009-12-06</td>\n",
              "      <td>Ahlen</td>\n",
              "      <td>Karlsruhe</td>\n",
              "      <td>1</td>\n",
              "      <td>3</td>\n",
              "      <td>A</td>\n",
              "    </tr>\n",
              "  </tbody>\n",
              "</table>\n",
              "</div>\n",
              "      <button class=\"colab-df-convert\" onclick=\"convertToInteractive('df-26eda4d8-0c18-48cd-9cdc-393b61b0131f')\"\n",
              "              title=\"Convert this dataframe to an interactive table.\"\n",
              "              style=\"display:none;\">\n",
              "        \n",
              "  <svg xmlns=\"http://www.w3.org/2000/svg\" height=\"24px\"viewBox=\"0 0 24 24\"\n",
              "       width=\"24px\">\n",
              "    <path d=\"M0 0h24v24H0V0z\" fill=\"none\"/>\n",
              "    <path d=\"M18.56 5.44l.94 2.06.94-2.06 2.06-.94-2.06-.94-.94-2.06-.94 2.06-2.06.94zm-11 1L8.5 8.5l.94-2.06 2.06-.94-2.06-.94L8.5 2.5l-.94 2.06-2.06.94zm10 10l.94 2.06.94-2.06 2.06-.94-2.06-.94-.94-2.06-.94 2.06-2.06.94z\"/><path d=\"M17.41 7.96l-1.37-1.37c-.4-.4-.92-.59-1.43-.59-.52 0-1.04.2-1.43.59L10.3 9.45l-7.72 7.72c-.78.78-.78 2.05 0 2.83L4 21.41c.39.39.9.59 1.41.59.51 0 1.02-.2 1.41-.59l7.78-7.78 2.81-2.81c.8-.78.8-2.07 0-2.86zM5.41 20L4 18.59l7.72-7.72 1.47 1.35L5.41 20z\"/>\n",
              "  </svg>\n",
              "      </button>\n",
              "      \n",
              "  <style>\n",
              "    .colab-df-container {\n",
              "      display:flex;\n",
              "      flex-wrap:wrap;\n",
              "      gap: 12px;\n",
              "    }\n",
              "\n",
              "    .colab-df-convert {\n",
              "      background-color: #E8F0FE;\n",
              "      border: none;\n",
              "      border-radius: 50%;\n",
              "      cursor: pointer;\n",
              "      display: none;\n",
              "      fill: #1967D2;\n",
              "      height: 32px;\n",
              "      padding: 0 0 0 0;\n",
              "      width: 32px;\n",
              "    }\n",
              "\n",
              "    .colab-df-convert:hover {\n",
              "      background-color: #E2EBFA;\n",
              "      box-shadow: 0px 1px 2px rgba(60, 64, 67, 0.3), 0px 1px 3px 1px rgba(60, 64, 67, 0.15);\n",
              "      fill: #174EA6;\n",
              "    }\n",
              "\n",
              "    [theme=dark] .colab-df-convert {\n",
              "      background-color: #3B4455;\n",
              "      fill: #D2E3FC;\n",
              "    }\n",
              "\n",
              "    [theme=dark] .colab-df-convert:hover {\n",
              "      background-color: #434B5C;\n",
              "      box-shadow: 0px 1px 3px 1px rgba(0, 0, 0, 0.15);\n",
              "      filter: drop-shadow(0px 1px 2px rgba(0, 0, 0, 0.3));\n",
              "      fill: #FFFFFF;\n",
              "    }\n",
              "  </style>\n",
              "\n",
              "      <script>\n",
              "        const buttonEl =\n",
              "          document.querySelector('#df-26eda4d8-0c18-48cd-9cdc-393b61b0131f button.colab-df-convert');\n",
              "        buttonEl.style.display =\n",
              "          google.colab.kernel.accessAllowed ? 'block' : 'none';\n",
              "\n",
              "        async function convertToInteractive(key) {\n",
              "          const element = document.querySelector('#df-26eda4d8-0c18-48cd-9cdc-393b61b0131f');\n",
              "          const dataTable =\n",
              "            await google.colab.kernel.invokeFunction('convertToInteractive',\n",
              "                                                     [key], {});\n",
              "          if (!dataTable) return;\n",
              "\n",
              "          const docLinkHtml = 'Like what you see? Visit the ' +\n",
              "            '<a target=\"_blank\" href=https://colab.research.google.com/notebooks/data_table.ipynb>data table notebook</a>'\n",
              "            + ' to learn more about interactive tables.';\n",
              "          element.innerHTML = '';\n",
              "          dataTable['output_type'] = 'display_data';\n",
              "          await google.colab.output.renderOutput(dataTable, element);\n",
              "          const docLink = document.createElement('div');\n",
              "          docLink.innerHTML = docLinkHtml;\n",
              "          element.appendChild(docLink);\n",
              "        }\n",
              "      </script>\n",
              "    </div>\n",
              "  </div>\n",
              "  "
            ]
          },
          "metadata": {},
          "execution_count": 18
        }
      ]
    },
    {
      "cell_type": "markdown",
      "source": [
        "# Selecting & Renaming Columns\n"
      ],
      "metadata": {
        "id": "BX3ktGDSObJI"
      }
    },
    {
      "cell_type": "code",
      "source": [
        "# Renaming columns with withColumnRenamed('oldname', 'newname')\n",
        "\n",
        "df_lim = df.withColumnRenamed('Div','Division').withColumnRenamed('FTHG','HomeTeamGoals').withColumnRenamed('FTAG', 'AwayTeamGoals').withColumnRenamed('FTR', 'FinalResult')\n",
        "df_lim.limit(5).show()"
      ],
      "metadata": {
        "colab": {
          "base_uri": "https://localhost:8080/"
        },
        "id": "jgXq_BhoOieB",
        "outputId": "08554002-b158-4e53-fa7c-c08ae3c96689"
      },
      "execution_count": 19,
      "outputs": [
        {
          "output_type": "stream",
          "name": "stdout",
          "text": [
            "+--------+--------+------+-------------------+-------------+--------------+-------------+-------------+-----------+\n",
            "|Match_ID|Division|Season|               Date|     HomeTeam|      AwayTeam|HomeTeamGoals|AwayTeamGoals|FinalResult|\n",
            "+--------+--------+------+-------------------+-------------+--------------+-------------+-------------+-----------+\n",
            "|       1|      D2|  2009|2010-04-04 00:00:00|   Oberhausen|Kaiserslautern|            2|            1|          H|\n",
            "|       2|      D2|  2009|2009-11-01 00:00:00|  Munich 1860|Kaiserslautern|            0|            1|          A|\n",
            "|       3|      D2|  2009|2009-10-04 00:00:00|Frankfurt FSV|Kaiserslautern|            1|            1|          D|\n",
            "|       4|      D2|  2009|2010-02-21 00:00:00|Frankfurt FSV|     Karlsruhe|            2|            1|          H|\n",
            "|       5|      D2|  2009|2009-12-06 00:00:00|        Ahlen|     Karlsruhe|            1|            3|          A|\n",
            "+--------+--------+------+-------------------+-------------+--------------+-------------+-------------+-----------+\n",
            "\n"
          ]
        }
      ]
    },
    {
      "cell_type": "code",
      "source": [
        "# We could also rename several columns in a loop with two lists of dictionary\n",
        "\n",
        "df_lim2 = df\n",
        "old_names = df_lim2.columns\n",
        "new_names = [\"Match_ID\", \"Division\", \"Season\", \"Date\", \"HomeTeam\", \"AwayTeam\", \"HomeTeamGoals\", \"AwayTeamGoals\",  \"FinalResult\"]\n",
        "old_new_cols = [*zip(old_names, new_names)]\n",
        "for old, new in old_new_cols:\n",
        "    df_lim2 = df_lim2.withColumnRenamed(old, new)\n",
        "\n",
        "df_lim2.limit(5).show()"
      ],
      "metadata": {
        "colab": {
          "base_uri": "https://localhost:8080/"
        },
        "id": "o0nXiMbfRqdB",
        "outputId": "89a99155-1412-4a84-a6f5-5f0ba8293a40"
      },
      "execution_count": 20,
      "outputs": [
        {
          "output_type": "stream",
          "name": "stdout",
          "text": [
            "+--------+--------+------+-------------------+-------------+--------------+-------------+-------------+-----------+\n",
            "|Match_ID|Division|Season|               Date|     HomeTeam|      AwayTeam|HomeTeamGoals|AwayTeamGoals|FinalResult|\n",
            "+--------+--------+------+-------------------+-------------+--------------+-------------+-------------+-----------+\n",
            "|       1|      D2|  2009|2010-04-04 00:00:00|   Oberhausen|Kaiserslautern|            2|            1|          H|\n",
            "|       2|      D2|  2009|2009-11-01 00:00:00|  Munich 1860|Kaiserslautern|            0|            1|          A|\n",
            "|       3|      D2|  2009|2009-10-04 00:00:00|Frankfurt FSV|Kaiserslautern|            1|            1|          D|\n",
            "|       4|      D2|  2009|2010-02-21 00:00:00|Frankfurt FSV|     Karlsruhe|            2|            1|          H|\n",
            "|       5|      D2|  2009|2009-12-06 00:00:00|        Ahlen|     Karlsruhe|            1|            3|          A|\n",
            "+--------+--------+------+-------------------+-------------+--------------+-------------+-------------+-----------+\n",
            "\n"
          ]
        }
      ]
    },
    {
      "cell_type": "markdown",
      "source": [
        "## Saving to local path\n"
      ],
      "metadata": {
        "id": "3woP7P_pfV72"
      }
    },
    {
      "cell_type": "code",
      "source": [
        "#Find out which type of data is \n",
        "print(type(df_lim2))"
      ],
      "metadata": {
        "colab": {
          "base_uri": "https://localhost:8080/"
        },
        "id": "f8cXMRok-SBF",
        "outputId": "d095deea-8794-4e98-a404-724a8a684f0d"
      },
      "execution_count": 21,
      "outputs": [
        {
          "output_type": "stream",
          "name": "stdout",
          "text": [
            "<class 'pyspark.sql.dataframe.DataFrame'>\n"
          ]
        }
      ]
    },
    {
      "cell_type": "code",
      "source": [
        "# Create a csv file and save the df to it (couldn't find a way of doint it in Spark)\n",
        "t = open('sample_data/Matches_format.csv', 'w')\n",
        "\n",
        "df_lim2.toPandas().to_csv(\"sample_data/Matches_format.csv\")"
      ],
      "metadata": {
        "id": "GT7q1w3sfXc9"
      },
      "execution_count": 22,
      "outputs": []
    },
    {
      "cell_type": "code",
      "source": [
        "# Delete folder (no matter if there's something inside)\n",
        "# import shutil\n",
        "\n",
        "# shutil.rmtree('Matchezs.csv')"
      ],
      "metadata": {
        "id": "mPzbyTuA8_Fi"
      },
      "execution_count": 71,
      "outputs": []
    },
    {
      "cell_type": "code",
      "source": [
        "# Read from csv\n",
        "df_format = spark.read.csv('sample_data/Matches_format.csv', header = True, inferSchema='true')\n",
        "df_format"
      ],
      "metadata": {
        "colab": {
          "base_uri": "https://localhost:8080/"
        },
        "id": "4VcF0S73t_rZ",
        "outputId": "848930c6-814e-48a2-afc8-cc95507d70fa"
      },
      "execution_count": 24,
      "outputs": [
        {
          "output_type": "execute_result",
          "data": {
            "text/plain": [
              "DataFrame[_c0: int, Match_ID: int, Division: string, Season: int, Date: timestamp, HomeTeam: string, AwayTeam: string, HomeTeamGoals: int, AwayTeamGoals: int, FinalResult: string]"
            ]
          },
          "metadata": {},
          "execution_count": 24
        }
      ]
    },
    {
      "cell_type": "markdown",
      "source": [
        "## PySpark exercises - join, convert, create and drop columns"
      ],
      "metadata": {
        "id": "R1V8tqaiJSOK"
      }
    },
    {
      "cell_type": "code",
      "source": [
        "# Joining two columns - obs: lit() to add space between the value of the columns\n",
        "from pyspark.sql.functions import *\n",
        "from pyspark.sql.types import *\n",
        "\n",
        "df_format = df_format.withColumn('Home_Away', concat(df_format.HomeTeam , lit(' ') , df_format.AwayTeam))\n",
        "# df_format.show()"
      ],
      "metadata": {
        "id": "4AQ7wQTuCkVW"
      },
      "execution_count": 25,
      "outputs": []
    },
    {
      "cell_type": "code",
      "source": [
        "# Showing the type of data inside each column\n",
        "# df_format.dtypes\n",
        "# Changing the type of the columns\n",
        "from pyspark.sql.functions import col\n",
        "from pyspark.sql.types import StringType,BooleanType,DateType\n",
        "\n",
        "df_format = df_format.withColumn(\"HomeTeamGoals\",col(\"HomeTeamGoals\").cast(StringType())) \\\n",
        "    .withColumn(\"AwayTeamGoals\",col(\"AwayTeamGoals\").cast(StringType()))\n",
        "df_format.printSchema()\n",
        "# df_format.show()\n"
      ],
      "metadata": {
        "colab": {
          "base_uri": "https://localhost:8080/"
        },
        "id": "Du-nO3j7DlQw",
        "outputId": "bc0eb5e5-bab1-4a02-ee7e-91e6e0a9c384"
      },
      "execution_count": 26,
      "outputs": [
        {
          "output_type": "stream",
          "name": "stdout",
          "text": [
            "root\n",
            " |-- _c0: integer (nullable = true)\n",
            " |-- Match_ID: integer (nullable = true)\n",
            " |-- Division: string (nullable = true)\n",
            " |-- Season: integer (nullable = true)\n",
            " |-- Date: timestamp (nullable = true)\n",
            " |-- HomeTeam: string (nullable = true)\n",
            " |-- AwayTeam: string (nullable = true)\n",
            " |-- HomeTeamGoals: string (nullable = true)\n",
            " |-- AwayTeamGoals: string (nullable = true)\n",
            " |-- FinalResult: string (nullable = true)\n",
            " |-- Home_Away: string (nullable = true)\n",
            "\n"
          ]
        }
      ]
    },
    {
      "cell_type": "code",
      "source": [
        "# Drop the first column\n",
        "df_format = df_format.drop('_c0')\n",
        "# df_format.show()"
      ],
      "metadata": {
        "id": "K_LWZIGeJrVq"
      },
      "execution_count": 27,
      "outputs": []
    },
    {
      "cell_type": "code",
      "source": [
        "# Create new column with different type (removing time)\n",
        "df_format = df_format.withColumn('New_Date', col('Date').cast(DateType()))\n"
      ],
      "metadata": {
        "id": "1HuIGq2RMHP7"
      },
      "execution_count": 28,
      "outputs": []
    },
    {
      "cell_type": "code",
      "source": [
        "# Converting date to brazilian format\n",
        "df_format = df_format.withColumn(\"New_Date\", date_format(df_format.New_Date,\"dd/MM/yyy\"))\n"
      ],
      "metadata": {
        "id": "_FWzOkbtPLYA"
      },
      "execution_count": 29,
      "outputs": []
    },
    {
      "cell_type": "code",
      "source": [
        "df_format.show()"
      ],
      "metadata": {
        "colab": {
          "base_uri": "https://localhost:8080/"
        },
        "id": "g6lnl6G6PIh1",
        "outputId": "0560c2c3-a680-4362-fe34-8f50328aa986"
      },
      "execution_count": 30,
      "outputs": [
        {
          "output_type": "stream",
          "name": "stdout",
          "text": [
            "+--------+--------+------+-------------------+------------------+--------------+-------------+-------------+-----------+--------------------+----------+\n",
            "|Match_ID|Division|Season|               Date|          HomeTeam|      AwayTeam|HomeTeamGoals|AwayTeamGoals|FinalResult|           Home_Away|  New_Date|\n",
            "+--------+--------+------+-------------------+------------------+--------------+-------------+-------------+-----------+--------------------+----------+\n",
            "|       1|      D2|  2009|2010-04-04 00:00:00|        Oberhausen|Kaiserslautern|            2|            1|          H|Oberhausen Kaiser...|04/04/2010|\n",
            "|       2|      D2|  2009|2009-11-01 00:00:00|       Munich 1860|Kaiserslautern|            0|            1|          A|Munich 1860 Kaise...|01/11/2009|\n",
            "|       3|      D2|  2009|2009-10-04 00:00:00|     Frankfurt FSV|Kaiserslautern|            1|            1|          D|Frankfurt FSV Kai...|04/10/2009|\n",
            "|       4|      D2|  2009|2010-02-21 00:00:00|     Frankfurt FSV|     Karlsruhe|            2|            1|          H|Frankfurt FSV Kar...|21/02/2010|\n",
            "|       5|      D2|  2009|2009-12-06 00:00:00|             Ahlen|     Karlsruhe|            1|            3|          A|     Ahlen Karlsruhe|06/12/2009|\n",
            "|       6|      D2|  2009|2010-04-03 00:00:00|      Union Berlin|     Karlsruhe|            1|            1|          D|Union Berlin Karl...|03/04/2010|\n",
            "|       7|      D2|  2009|2009-08-14 00:00:00|         Paderborn|     Karlsruhe|            2|            0|          H| Paderborn Karlsruhe|14/08/2009|\n",
            "|       8|      D2|  2009|2010-03-08 00:00:00|         Bielefeld|     Karlsruhe|            0|            1|          A| Bielefeld Karlsruhe|08/03/2010|\n",
            "|       9|      D2|  2009|2009-09-26 00:00:00|    Kaiserslautern|     Karlsruhe|            2|            0|          H|Kaiserslautern Ka...|26/09/2009|\n",
            "|      10|      D2|  2009|2009-11-21 00:00:00|     Hansa Rostock|     Karlsruhe|            2|            1|          H|Hansa Rostock Kar...|21/11/2009|\n",
            "|      11|      D2|  2009|2009-12-19 00:00:00|    Greuther Furth|     Karlsruhe|            1|            4|          A|Greuther Furth Ka...|19/12/2009|\n",
            "|      12|      D2|  2009|2010-04-16 00:00:00|           Koblenz|     Karlsruhe|            2|            2|          D|   Koblenz Karlsruhe|16/04/2010|\n",
            "|      13|      D2|  2009|2010-03-21 00:00:00|        Oberhausen|     Karlsruhe|            1|            0|          H|Oberhausen Karlsruhe|21/03/2010|\n",
            "|      14|      D2|  2009|2009-09-14 00:00:00|           Cottbus|     Karlsruhe|            2|            4|          A|   Cottbus Karlsruhe|14/09/2009|\n",
            "|      15|      D2|  2009|2010-05-02 00:00:00|          Duisburg|     Karlsruhe|            0|            1|          A|  Duisburg Karlsruhe|02/05/2010|\n",
            "|      16|      D2|  2009|2009-10-30 00:00:00|Fortuna Dusseldorf|     Karlsruhe|            1|            0|          H|Fortuna Dusseldor...|30/10/2009|\n",
            "|      17|      D2|  2009|2010-01-15 00:00:00|            Aachen|     Karlsruhe|            3|            1|          H|    Aachen Karlsruhe|15/01/2010|\n",
            "|      18|      D2|  2009|2009-10-18 00:00:00|          Augsburg|     Karlsruhe|            1|            1|          D|  Augsburg Karlsruhe|18/10/2009|\n",
            "|      19|      D2|  2009|2010-02-05 00:00:00|          St Pauli|     Karlsruhe|            2|            1|          H|  St Pauli Karlsruhe|05/02/2010|\n",
            "|      20|      D2|  2009|2009-08-24 00:00:00|       Munich 1860|     Karlsruhe|            1|            3|          A|Munich 1860 Karls...|24/08/2009|\n",
            "+--------+--------+------+-------------------+------------------+--------------+-------------+-------------+-----------+--------------------+----------+\n",
            "only showing top 20 rows\n",
            "\n"
          ]
        }
      ]
    },
    {
      "cell_type": "code",
      "source": [
        "df_format.count()"
      ],
      "metadata": {
        "colab": {
          "base_uri": "https://localhost:8080/"
        },
        "id": "TcC7uEmnUJ3-",
        "outputId": "73ca58e1-ea62-4b59-dde6-64dd2e89dc0a"
      },
      "execution_count": 31,
      "outputs": [
        {
          "output_type": "execute_result",
          "data": {
            "text/plain": [
              "24625"
            ]
          },
          "metadata": {},
          "execution_count": 31
        }
      ]
    },
    {
      "cell_type": "markdown",
      "source": [
        "## Creating temp view to use SQL"
      ],
      "metadata": {
        "id": "aFrvMoe4uSPD"
      }
    },
    {
      "cell_type": "code",
      "source": [
        "#Creating a Temporary view to be queried with SQL\n",
        "df_format.createOrReplaceTempView(\"Matches\")"
      ],
      "metadata": {
        "id": "S3UC0ocOUmvf"
      },
      "execution_count": 32,
      "outputs": []
    },
    {
      "cell_type": "code",
      "source": [
        "# Using SQL to select\n",
        "spark.sql(\"SELECT Division, New_Date FROM Matches\") \\\n",
        "     .show(5)"
      ],
      "metadata": {
        "colab": {
          "base_uri": "https://localhost:8080/"
        },
        "id": "5hYFwyZzVEGe",
        "outputId": "7da3e608-26fc-4808-d7d2-e714b8ac56a3"
      },
      "execution_count": 69,
      "outputs": [
        {
          "output_type": "stream",
          "name": "stdout",
          "text": [
            "+--------+----------+\n",
            "|Division|  New_Date|\n",
            "+--------+----------+\n",
            "|      D2|04/04/2010|\n",
            "|      D2|01/11/2009|\n",
            "|      D2|04/10/2009|\n",
            "|      D2|21/02/2010|\n",
            "|      D2|06/12/2009|\n",
            "+--------+----------+\n",
            "only showing top 5 rows\n",
            "\n"
          ]
        }
      ]
    },
    {
      "cell_type": "markdown",
      "source": [
        "## PySpark exercises 2 - joins"
      ],
      "metadata": {
        "id": "4ACk92RHt369"
      }
    },
    {
      "cell_type": "code",
      "source": [
        "# Creating temp view of a different table\n",
        "df2 = spark.read.format('csv').options(header='true', inferSchema='true').load('sample_data/Matches_2.csv')\n"
      ],
      "metadata": {
        "id": "Mf91gTJKt64_"
      },
      "execution_count": 34,
      "outputs": []
    },
    {
      "cell_type": "code",
      "source": [
        "# Joining two dataframes\n",
        "new_combined_table =  \\\n",
        "df_format.join(df2,df_format.Match_ID == df2.Match_ID, 'inner') \\\n",
        ".select(df_format.Match_ID, df_format.Division, df_format.Season, df_format.Date, df_format.HomeTeam, \\\n",
        "        df_format.AwayTeam, df_format.HomeTeamGoals, df_format.AwayTeamGoals, df_format.FinalResult, \\\n",
        "        df_format.Home_Away, df_format.New_Date, \\\n",
        "        df2.Best_Player, df2.Next_Games, df2.Already_Played)\n"
      ],
      "metadata": {
        "id": "ACaR7nCSxPax"
      },
      "execution_count": 65,
      "outputs": []
    },
    {
      "cell_type": "code",
      "source": [
        "# Viewing new joined table\n",
        "new_combined_table.show()\n",
        "# Creating Temp View to query with SQL\n",
        "new_combined_table.createOrReplaceTempView(\"New_Combined_Table\")\n",
        "# Selecting with where\n",
        "spark.sql(\"SELECT * FROM New_Combined_Table where AwayTeam = 'Kaiserslautern' \").show(5)"
      ],
      "metadata": {
        "colab": {
          "base_uri": "https://localhost:8080/"
        },
        "id": "obpk5YiV1_mS",
        "outputId": "3a38adf2-73af-48ca-c46f-75d13545dbc9"
      },
      "execution_count": 70,
      "outputs": [
        {
          "output_type": "stream",
          "name": "stdout",
          "text": [
            "+--------+--------+------+-------------------+------------------+--------------+-------------+-------------+-----------+--------------------+----------+--------------+----------+--------------+\n",
            "|Match_ID|Division|Season|               Date|          HomeTeam|      AwayTeam|HomeTeamGoals|AwayTeamGoals|FinalResult|           Home_Away|  New_Date|   Best_Player|Next_Games|Already_Played|\n",
            "+--------+--------+------+-------------------+------------------+--------------+-------------+-------------+-----------+--------------------+----------+--------------+----------+--------------+\n",
            "|       1|      D2|  2009|2010-04-04 00:00:00|        Oberhausen|Kaiserslautern|            2|            1|          H|Oberhausen Kaiser...|04/04/2010|    Joann Long|         2|             1|\n",
            "|       2|      D2|  2009|2009-11-01 00:00:00|       Munich 1860|Kaiserslautern|            0|            1|          A|Munich 1860 Kaise...|01/11/2009|  Felipe Lynch|         0|             1|\n",
            "|       3|      D2|  2009|2009-10-04 00:00:00|     Frankfurt FSV|Kaiserslautern|            1|            1|          D|Frankfurt FSV Kai...|04/10/2009|   Misty Blair|         1|             1|\n",
            "|       4|      D2|  2009|2010-02-21 00:00:00|     Frankfurt FSV|     Karlsruhe|            2|            1|          H|Frankfurt FSV Kar...|21/02/2010|  Kelly Valdez|         2|             1|\n",
            "|       5|      D2|  2009|2009-12-06 00:00:00|             Ahlen|     Karlsruhe|            1|            3|          A|     Ahlen Karlsruhe|06/12/2009|   Vicky Watts|         1|             3|\n",
            "|       6|      D2|  2009|2010-04-03 00:00:00|      Union Berlin|     Karlsruhe|            1|            1|          D|Union Berlin Karl...|03/04/2010|    Roy Holmes|         1|             1|\n",
            "|       7|      D2|  2009|2009-08-14 00:00:00|         Paderborn|     Karlsruhe|            2|            0|          H| Paderborn Karlsruhe|14/08/2009|   Oscar Hayes|         2|             0|\n",
            "|       8|      D2|  2009|2010-03-08 00:00:00|         Bielefeld|     Karlsruhe|            0|            1|          A| Bielefeld Karlsruhe|08/03/2010|Henrietta King|         0|             1|\n",
            "|       9|      D2|  2009|2009-09-26 00:00:00|    Kaiserslautern|     Karlsruhe|            2|            0|          H|Kaiserslautern Ka...|26/09/2009| Francis Jones|         2|             0|\n",
            "|      10|      D2|  2009|2009-11-21 00:00:00|     Hansa Rostock|     Karlsruhe|            2|            1|          H|Hansa Rostock Kar...|21/11/2009|   Kevin Terry|         2|             1|\n",
            "|      11|      D2|  2009|2009-12-19 00:00:00|    Greuther Furth|     Karlsruhe|            1|            4|          A|Greuther Furth Ka...|19/12/2009|    Dean Moore|         1|             4|\n",
            "|      12|      D2|  2009|2010-04-16 00:00:00|           Koblenz|     Karlsruhe|            2|            2|          D|   Koblenz Karlsruhe|16/04/2010| Joanna Benson|         2|             2|\n",
            "|      13|      D2|  2009|2010-03-21 00:00:00|        Oberhausen|     Karlsruhe|            1|            0|          H|Oberhausen Karlsruhe|21/03/2010| Rickey Willis|         1|             0|\n",
            "|      14|      D2|  2009|2009-09-14 00:00:00|           Cottbus|     Karlsruhe|            2|            4|          A|   Cottbus Karlsruhe|14/09/2009| Lance Hawkins|         2|             4|\n",
            "|      15|      D2|  2009|2010-05-02 00:00:00|          Duisburg|     Karlsruhe|            0|            1|          A|  Duisburg Karlsruhe|02/05/2010|  Dallas Munoz|         0|             1|\n",
            "|      16|      D2|  2009|2009-10-30 00:00:00|Fortuna Dusseldorf|     Karlsruhe|            1|            0|          H|Fortuna Dusseldor...|30/10/2009|  Annie Lawson|         1|             0|\n",
            "|      17|      D2|  2009|2010-01-15 00:00:00|            Aachen|     Karlsruhe|            3|            1|          H|    Aachen Karlsruhe|15/01/2010|   Lee Ballard|         3|             1|\n",
            "|      18|      D2|  2009|2009-10-18 00:00:00|          Augsburg|     Karlsruhe|            1|            1|          D|  Augsburg Karlsruhe|18/10/2009|   Jeremy Gill|         1|             1|\n",
            "|      19|      D2|  2009|2010-02-05 00:00:00|          St Pauli|     Karlsruhe|            2|            1|          H|  St Pauli Karlsruhe|05/02/2010|  Debra Morton|         2|             1|\n",
            "|      20|      D2|  2009|2009-08-24 00:00:00|       Munich 1860|     Karlsruhe|            1|            3|          A|Munich 1860 Karls...|24/08/2009| Edna Jennings|         1|             3|\n",
            "+--------+--------+------+-------------------+------------------+--------------+-------------+-------------+-----------+--------------------+----------+--------------+----------+--------------+\n",
            "only showing top 20 rows\n",
            "\n",
            "+--------+--------+------+-------------------+-------------+--------------+-------------+-------------+-----------+--------------------+----------+------------+----------+--------------+\n",
            "|Match_ID|Division|Season|               Date|     HomeTeam|      AwayTeam|HomeTeamGoals|AwayTeamGoals|FinalResult|           Home_Away|  New_Date| Best_Player|Next_Games|Already_Played|\n",
            "+--------+--------+------+-------------------+-------------+--------------+-------------+-------------+-----------+--------------------+----------+------------+----------+--------------+\n",
            "|       1|      D2|  2009|2010-04-04 00:00:00|   Oberhausen|Kaiserslautern|            2|            1|          H|Oberhausen Kaiser...|04/04/2010|  Joann Long|         2|             1|\n",
            "|       2|      D2|  2009|2009-11-01 00:00:00|  Munich 1860|Kaiserslautern|            0|            1|          A|Munich 1860 Kaise...|01/11/2009|Felipe Lynch|         0|             1|\n",
            "|       3|      D2|  2009|2009-10-04 00:00:00|Frankfurt FSV|Kaiserslautern|            1|            1|          D|Frankfurt FSV Kai...|04/10/2009| Misty Blair|         1|             1|\n",
            "+--------+--------+------+-------------------+-------------+--------------+-------------+-------------+-----------+--------------------+----------+------------+----------+--------------+\n",
            "\n"
          ]
        }
      ]
    }
  ]
}